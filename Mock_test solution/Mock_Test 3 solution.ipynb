{
 "cells": [
  {
   "cell_type": "markdown",
   "id": "3a77476b",
   "metadata": {},
   "source": [
    "## 1. Implement a stack using a list in Python. Include the necessary methods such as push, pop, and isEmpty."
   ]
  },
  {
   "cell_type": "code",
   "execution_count": 9,
   "id": "1b58deaa",
   "metadata": {},
   "outputs": [],
   "source": [
    "class Stack:\n",
    "    def __init__(self):\n",
    "        self.stack = []\n",
    "\n",
    "    def push(self, item):\n",
    "        self.stack.append(item)\n",
    "\n",
    "    def pop(self):\n",
    "        if self.is_empty():\n",
    "            return None\n",
    "        return self.stack.pop()\n",
    "\n",
    "    def is_empty(self):\n",
    "        return len(self.stack) == 0"
   ]
  },
  {
   "cell_type": "code",
   "execution_count": 10,
   "id": "56a7cd63",
   "metadata": {},
   "outputs": [
    {
     "name": "stdout",
     "output_type": "stream",
     "text": [
      "True\n",
      "3\n",
      "2\n",
      "1\n",
      "True\n"
     ]
    }
   ],
   "source": [
    "stack = Stack()\n",
    "print(stack.is_empty())  \n",
    "\n",
    "stack.push(1)\n",
    "stack.push(2)\n",
    "stack.push(3)\n",
    "\n",
    "print(stack.pop()) \n",
    "print(stack.pop()) \n",
    "print(stack.pop())  \n",
    "\n",
    "print(stack.is_empty())  "
   ]
  },
  {
   "cell_type": "markdown",
   "id": "712789c0",
   "metadata": {},
   "source": [
    "## 2. Implement a queue using a list in Python. Include the necessary methods such as enqueue, dequeue, and isEmpty."
   ]
  },
  {
   "cell_type": "code",
   "execution_count": 11,
   "id": "b78c10b6",
   "metadata": {},
   "outputs": [],
   "source": [
    "class Queue:\n",
    "    def __init__(self):\n",
    "        self.queue = []\n",
    "\n",
    "    def enqueue(self, item):\n",
    "        self.queue.append(item)\n",
    "\n",
    "    def dequeue(self):\n",
    "        if self.is_empty():\n",
    "            return None\n",
    "        return self.queue.pop(0)\n",
    "\n",
    "    def is_empty(self):\n",
    "        return len(self.queue) == 0"
   ]
  },
  {
   "cell_type": "code",
   "execution_count": 12,
   "id": "3e9ae2c4",
   "metadata": {},
   "outputs": [
    {
     "name": "stdout",
     "output_type": "stream",
     "text": [
      "True\n",
      "1\n",
      "2\n",
      "3\n",
      "True\n"
     ]
    }
   ],
   "source": [
    "queue = Queue()\n",
    "print(queue.is_empty())  \n",
    "\n",
    "queue.enqueue(1)\n",
    "queue.enqueue(2)\n",
    "queue.enqueue(3)\n",
    "\n",
    "print(queue.dequeue())  \n",
    "print(queue.dequeue())  \n",
    "print(queue.dequeue())  \n",
    "\n",
    "print(queue.is_empty())"
   ]
  }
 ],
 "metadata": {
  "kernelspec": {
   "display_name": "Python 3 (ipykernel)",
   "language": "python",
   "name": "python3"
  },
  "language_info": {
   "codemirror_mode": {
    "name": "ipython",
    "version": 3
   },
   "file_extension": ".py",
   "mimetype": "text/x-python",
   "name": "python",
   "nbconvert_exporter": "python",
   "pygments_lexer": "ipython3",
   "version": "3.9.7"
  }
 },
 "nbformat": 4,
 "nbformat_minor": 5
}
